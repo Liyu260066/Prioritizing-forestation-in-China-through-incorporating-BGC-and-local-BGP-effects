{
  "cells": [
    {
      "cell_type": "code",
      "source": [
        "import pandas as pd\n",
        "import numpy as np\n",
        "from sklearn import preprocessing\n",
        "import matplotlib.pyplot as plt\n",
        "from sklearn.ensemble import RandomForestRegressor\n",
        "from sklearn.model_selection import train_test_split,cross_val_score\n",
        "from sklearn.model_selection import KFold\n",
        "from sklearn import metrics\n",
        "import seaborn as sns \n",
        "from numpy import *\n",
        "from sklearn.model_selection import GridSearchCV"
      ],
      "outputs": [],
      "execution_count": 1,
      "metadata": {}
    },
    {
      "cell_type": "code",
      "source": [
        "def artificial_cv(mod,total_fold,x,y):\n",
        "    train_index = []\n",
        "    test_index = []\n",
        "    r2 = []\n",
        "    kf = KFold(n_splits = total_fold,shuffle= True,random_state = 0)\n",
        "#     kf = KFold(n_splits = total_fold)\n",
        "    for train_i, test_i in kf.split(x):\n",
        "        train_index.append(train_i)\n",
        "        test_index.append(test_i)\n",
        "    x.index = range(0, len(x)) \n",
        "    y.index = range(0, len(y))\n",
        "    for i in range(0,total_fold):\n",
        "        train_x = x.loc[train_index[i]]\n",
        "        train_y = y.loc[train_index[i]]\n",
        "        test_x = x.loc[test_index[i]]\n",
        "        test_y = y.loc[test_index[i]]\n",
        "        mod.fit(train_x,train_y.values.ravel())\n",
        "        y_pred = mod.predict(test_x)\n",
        "        r2_i = metrics.r2_score(test_y, y_pred)\n",
        "        r2.append(r2_i)\n",
        "    cv = np.mean(r2)\n",
        "    return cv"
      ],
      "outputs": [],
      "execution_count": 16,
      "metadata": {}
    },
    {
      "cell_type": "code",
      "source": [
        "def Read_GTiff(filename):\n",
        "    ds = gdal.Open(filename)\n",
        "    data = ds.ReadAsArray()\n",
        "    return data\n",
        "def Get_LatLon_GTiff(fname):\n",
        "    \"\"\"\n",
        "    Return two numpy arrays of lat,lon of the tif file.\n",
        "    \"\"\"\n",
        "    ds = gdal.Open(fname)\n",
        "    size_x = ds.RasterXSize\n",
        "    size_y = ds.RasterYSize\n",
        "    originX, pixelWidth, _, originY, _, pixelHeight = ds.GetGeoTransform()\n",
        "    lon = np.arange(originX,originX+pixelWidth*size_x,pixelWidth)\n",
        "    lat = np.arange(originY,originY+pixelHeight*size_y,pixelHeight)\n",
        "    return lat,lon\n",
        "\n",
        "def Read_Gtiff_data_latlon(fname):\n",
        "    \"\"\"\n",
        "    Return lat,lon,data\n",
        "    \"\"\"\n",
        "    lat,lon = Get_LatLon_GTiff(fname)\n",
        "    data = Read_GTiff(fname)\n",
        "    return lat,lon,data"
      ],
      "outputs": [],
      "execution_count": 3,
      "metadata": {}
    },
    {
      "cell_type": "code",
      "source": [
        "from osgeo import gdal,ogr,osr\n",
        "def array2raster(newRasterfn,rasterOrigin,pixelWidth,pixelHeight,array):\n",
        "\n",
        "    cols = array.shape[1]\n",
        "    rows = array.shape[0]\n",
        "    originX = rasterOrigin[0]\n",
        "    originY = rasterOrigin[1]\n",
        "\n",
        "    driver = gdal.GetDriverByName('GTiff')\n",
        "    outRaster = driver.Create(newRasterfn, cols, rows, 1, gdal.GDT_Float32)\n",
        "    outRaster.SetGeoTransform((originX, pixelWidth,0 ,originY, 0 , pixelHeight))\n",
        "    outband = outRaster.GetRasterBand(1)\n",
        "\n",
        "    outband.WriteArray(array)\n",
        "    outRasterSRS = osr.SpatialReference()\n",
        "    outRasterSRS.ImportFromEPSG(4326)\n",
        "    outRaster.SetProjection(outRasterSRS.ExportToWkt())\n",
        "    outband.FlushCache()"
      ],
      "outputs": [],
      "execution_count": 4,
      "metadata": {}
    },
    {
      "cell_type": "code",
      "source": [
        "def upscale(x,rfc):\n",
        "    col_names = []\n",
        "    n = x.shape[1]*x.shape[2]\n",
        "    df_pred = pd.DataFrame(index=np.arange(n))\n",
        "    df_x = pd.DataFrame(index=np.arange(n))\n",
        "    \n",
        "    for i in range(x.shape[0]):\n",
        "        x_ = x[i].flatten()\n",
        "        df_x['variable_{}'.format(i)] = x_\n",
        "    y = rfc.predict(df_x)\n",
        "    df_pred['result'] = y\n",
        "#     df_pred.loc[nan_list,'result']= np.nan\n",
        "    y = df_pred.values\n",
        "    y = y.reshape((x.shape[1],x.shape[2])) \n",
        "    return y"
      ],
      "outputs": [],
      "execution_count": 5,
      "metadata": {}
    },
    {
      "cell_type": "code",
      "source": [
        "dataset = pd.read_excel(\"F:/site_biomass/1.China/train_221014.xlsx\")"
      ],
      "outputs": [],
      "execution_count": 6,
      "metadata": {}
    },
    {
      "cell_type": "code",
      "source": [
        "var =  [\"lon\",\"lat\",\"AK\",\"altitude\",\"AN\",\"AP\",\"aspect\",\n",
        "        \"awc\",\"AWCtS\",\n",
        "        \"BDRLOG\",\"BDTICM\",\"BLDFIE\",\"CECSOL\",\n",
        "        \"CLYPPT\",\"DIF\",\"LOS\",\"OCDENS\",\"OCSTHA\",\n",
        "        \"ORCDRC\",\"PHIKCL\",\"PHIHOX\",\"P_pet\",\"P_pre\",\"P_tmp\",\n",
        "        \"slope\",\"SLTPPT\",\n",
        "        \"SNDPPT\",\"WWP\"]\n",
        "result = [\"rate\"]"
      ],
      "outputs": [],
      "execution_count": 7,
      "metadata": {}
    },
    {
      "cell_type": "code",
      "source": [
        "dataset_age40=dataset_age40.query('`rate`<16.425881834356233')"
      ],
      "outputs": [],
      "execution_count": 9,
      "metadata": {}
    },
    {
      "cell_type": "markdown",
      "source": [
        "# needle"
      ],
      "metadata": {}
    },
    {
      "cell_type": "code",
      "source": [
        "needle=dataset_age40.query('`N_B` == 1')"
      ],
      "outputs": [],
      "execution_count": 10,
      "metadata": {}
    },
    {
      "cell_type": "code",
      "source": [
        "X_n = needle[var]\n",
        "Y_n = needle[result]"
      ],
      "outputs": [],
      "execution_count": 11,
      "metadata": {}
    },
    {
      "cell_type": "code",
      "source": [
        "rfc_n = RandomForestRegressor(n_estimators=120, max_features=4,\n",
        "                            max_depth=14,bootstrap=True,oob_score=True,\n",
        "                            n_jobs=-1)"
      ],
      "outputs": [],
      "execution_count": 12,
      "metadata": {}
    },
    {
      "cell_type": "code",
      "source": [
        " rfc_n.fit(X_n, Y_n.values.ravel())"
      ],
      "outputs": [
        {
          "output_type": "execute_result",
          "execution_count": 13,
          "data": {
            "text/plain": "RandomForestRegressor(bootstrap=True, ccp_alpha=0.0, criterion='mse',\n                      max_depth=14, max_features=4, max_leaf_nodes=None,\n                      max_samples=None, min_impurity_decrease=0.0,\n                      min_impurity_split=None, min_samples_leaf=1,\n                      min_samples_split=2, min_weight_fraction_leaf=0.0,\n                      n_estimators=120, n_jobs=-1, oob_score=True,\n                      random_state=None, verbose=0, warm_start=False)"
          },
          "metadata": {}
        }
      ],
      "execution_count": 13,
      "metadata": {}
    },
    {
      "cell_type": "code",
      "source": [
        "artificial_cv(rfc_n,3,X_n,Y_n)"
      ],
      "outputs": [],
      "execution_count": null,
      "metadata": {}
    },
    {
      "cell_type": "code",
      "source": [
        "rfc.oob_score_"
      ],
      "outputs": [],
      "execution_count": null,
      "metadata": {}
    },
    {
      "cell_type": "code",
      "source": [
        "from sklearn.inspection import plot_partial_dependence"
      ],
      "outputs": [],
      "execution_count": 18,
      "metadata": {}
    },
    {
      "cell_type": "code",
      "source": [
        "import os\n",
        "import glob\n",
        "a = []\n",
        "inws = r\"D:/site_biomass/9_28_11/\"\n",
        "values = glob.glob(os.path.join(inws, \"*.tif\"))\n",
        "for i,val in zip(range(0,28),values):\n",
        "    print(\"{}  \".format(i),val)\n",
        "    var = Read_GTiff(val)\n",
        "    lat,lon = G et_LatLon_GTiff(val)\n",
        "    lonmx = np.argwhere(lon<=135)\n",
        "    lonmn = np.argwhere(lon>=73)\n",
        "    latmx = np.argwhere(lat<=54)\n",
        "    latmn = np.argwhere(lat>=18.5)\n",
        "    var = var[latmx.min():latmn.max(),lonmn.min():lonmx.max()]\n",
        "    a.append(var)\n",
        "a = np.array(a) "
      ],
      "outputs": [],
      "execution_count": null,
      "metadata": {}
    },
    {
      "cell_type": "code",
      "source": [
        "modeltif = Read_GTiff(\"D:/site_biomass/9_28_11/AK.tif\")\n",
        "lat,lon = Get_LatLon_GTiff(\"D:/site_biomass/9_28_11/AK.tif\")\n",
        "lonmx = np.argwhere(lon<=135)\n",
        "lonmn = np.argwhere(lon>=73)\n",
        "latmx = np.argwhere(lat<=54)\n",
        "latmn = np.argwhere(lat>=18.5)\n",
        "print(latmx.min(),latmn.max(),lonmn.min(),lonmx.max())"
      ],
      "outputs": [
        {
          "output_type": "stream",
          "name": "stdout",
          "text": [
            "0 3549 0 6199\n"
          ]
        }
      ],
      "execution_count": 54,
      "metadata": {}
    },
    {
      "cell_type": "code",
      "source": [
        "lat_var = np.full([3550, 6200], np.nan)"
      ],
      "outputs": [],
      "execution_count": 38,
      "metadata": {}
    },
    {
      "cell_type": "code",
      "source": [
        "lat_var = np.tile(lat[0:3550],(6200,1))"
      ],
      "outputs": [],
      "execution_count": 39,
      "metadata": {}
    },
    {
      "cell_type": "code",
      "source": [
        "lat_var = lat_var.transpose()"
      ],
      "outputs": [],
      "execution_count": 40,
      "metadata": {}
    },
    {
      "cell_type": "code",
      "source": [
        "lat_var.shape"
      ],
      "outputs": [
        {
          "output_type": "execute_result",
          "execution_count": 41,
          "data": {
            "text/plain": "(3550, 6200)"
          },
          "metadata": {}
        }
      ],
      "execution_count": 41,
      "metadata": {}
    },
    {
      "cell_type": "code",
      "source": [
        "lat,lon = Get_LatLon_GTiff(\"D:/site_biomass/9_28_11/AK.tif\")\n",
        "pixelWidth = lon[1]-lon[0]\n",
        "pixelHeight = lat[1]-lat[0]\n",
        "rasterOrigin = (lon[0],lat[0])\n",
        "array = lat_var\n",
        "newRasterfn = \"D:/site_biomass/9_28_11/2_lat.tif\"\n",
        "array2raster(newRasterfn,rasterOrigin,pixelWidth,pixelHeight,array)"
      ],
      "outputs": [],
      "execution_count": 42,
      "metadata": {}
    },
    {
      "cell_type": "code",
      "source": [
        "lon_var = np.full([3550, 6200], np.nan)"
      ],
      "outputs": [],
      "execution_count": 43,
      "metadata": {}
    },
    {
      "cell_type": "code",
      "source": [
        "lon_var = np.tile(lon[0:6200],(3550,1))"
      ],
      "outputs": [],
      "execution_count": 44,
      "metadata": {}
    },
    {
      "cell_type": "code",
      "source": [
        "array = lon_var\n",
        "newRasterfn = \"D:/site_biomass/9_28_11/1_lon.tif\"\n",
        "array2raster(newRasterfn,rasterOrigin,pixelWidth,pixelHeight,array)"
      ],
      "outputs": [],
      "execution_count": 45,
      "metadata": {}
    },
    {
      "cell_type": "code",
      "source": [
        "y_N = upscale(a,rfc)"
      ],
      "outputs": [],
      "execution_count": 48,
      "metadata": {}
    },
    {
      "cell_type": "code",
      "source": [
        "array = y_N\n",
        "newRasterfn = \"D:/site_biomass/upscale/dif_n.tif\"\n",
        "array2raster(newRasterfn,rasterOrigin,pixelWidth,pixelHeight,array)"
      ],
      "outputs": [],
      "execution_count": 51,
      "metadata": {}
    },
    {
      "cell_type": "markdown",
      "source": [
        "# BROAD"
      ],
      "metadata": {}
    },
    {
      "cell_type": "code",
      "source": [
        "broad=dataset_age40.query('`N_B` == 2')"
      ],
      "outputs": [],
      "execution_count": 20,
      "metadata": {}
    },
    {
      "cell_type": "code",
      "source": [
        "X_b = broad[var]\n",
        "Y_b = broad[result]"
      ],
      "outputs": [],
      "execution_count": 21,
      "metadata": {}
    },
    {
      "cell_type": "code",
      "source": [
        "cv = []\n",
        "oob = []\n",
        "from sklearn import metrics\n",
        "for i in range(100,400,10):\n",
        "    rfc = RandomForestRegressor(\n",
        "                                n_estimators=i+1,\n",
        "                                bootstrap=True,\n",
        "                                oob_score=True,\n",
        "                                n_jobs=-1,\n",
        "    )\n",
        "    score_cv = artificial_cv(3,X_b,Y_b)\n",
        "    cv.append(score_cv)\n",
        "#     cv.append(-score_cv)\n",
        "    rfc.fit(X_b, Y_b.values.ravel())\n",
        "    oob.append(rfc.oob_score_)"
      ],
      "outputs": [],
      "execution_count": 17,
      "metadata": {}
    },
    {
      "cell_type": "code",
      "source": [
        "cv_max = np.max(cv)\n",
        "print('cv：{}'.format(cv_max),\n",
        "      '{}'.format(cv.index(cv_max)*10+101))\n",
        "oob_max = np.max(oob)\n",
        "print('oob：{}'.format(oob_max),\n",
        "      '{}'.format(oob.index(oob_max)*10+101))\n",
        "\n",
        "x = np.arange(101,401,10)\n",
        "# plt.subplot(111)\n",
        "plt.figure(figsize=(14, 5))\n",
        "plt.xticks(x)\n",
        "\n",
        "plt.plot(x, cv, label='cv')\n",
        "plt.plot(x, oob,label='oob' )\n",
        "\n",
        "plt.legend(prop={'family' : 'Times New Roman', 'size': 12})\n",
        "\n",
        "plt.show()"
      ],
      "outputs": [],
      "execution_count": null,
      "metadata": {}
    },
    {
      "cell_type": "code",
      "source": [
        "cv = []\n",
        "oob = []\n",
        "\n",
        "from sklearn import metrics\n",
        "for i in range(0,25,1):\n",
        "    rfc = RandomForestRegressor(\n",
        "                                n_estimators=371,\n",
        "                                max_depth = i+1,\n",
        "                                bootstrap=True,\n",
        "                                oob_score=True,\n",
        "                                n_jobs=-1\n",
        "    )\n",
        "    score_cv = artificial_cv(3,X_b,Y_b)\n",
        "    cv.append(score_cv)\n",
        "#     cv.append(-score_cv)\n",
        "    rfc.fit(X_b, Y_b.values.ravel())\n",
        "    oob.append(rfc.oob_score_)"
      ],
      "outputs": [],
      "execution_count": null,
      "metadata": {}
    },
    {
      "cell_type": "code",
      "source": [
        "cv_max = max(cv)\n",
        "print('cv：{}'.format(cv_max),\n",
        "      '{}'.format(cv.index(cv_max)*1+1))\n",
        "oob_max = max(oob)\n",
        "print('oob：{}'.format(oob_max),\n",
        "      '{}'.format(oob.index(oob_max)*1+1))\n",
        "\n",
        "x = np.arange(1,26,1)\n",
        "# plt.subplot(111)\n",
        "plt.figure(figsize=(14, 5))\n",
        "plt.xticks(x)\n",
        "plt.plot(x, cv, label='cv')\n",
        "plt.plot(x, oob,label='oob' )\n",
        "\n",
        "plt.legend(prop={'family' : 'Times New Roman', 'size': 12})\n",
        "\n",
        "plt.show()"
      ],
      "outputs": [],
      "execution_count": null,
      "metadata": {}
    },
    {
      "cell_type": "code",
      "source": [
        "cv = []\n",
        "oob = []\n",
        "from sklearn import metrics\n",
        "for i in range(2,28):\n",
        "    rfc = RandomForestRegressor(\n",
        "                                n_estimators=120,\n",
        "                                max_features=i,\n",
        "                                max_depth=21,\n",
        "                                bootstrap=True,\n",
        "                                oob_score=True,\n",
        "                                n_jobs=-1,\n",
        "                                random_state = 0\n",
        "    )\n",
        "    score_cv = artificial_cv(3,X_b,Y_b)\n",
        "    cv.append(score_cv)\n",
        "#     cv.append(-score_cv)\n",
        "    rfc.fit(X_b, Y_b.values.ravel())\n",
        "    oob.append(rfc.oob_score_)"
      ],
      "outputs": [],
      "execution_count": 30,
      "metadata": {}
    },
    {
      "cell_type": "code",
      "source": [
        "cv_max = np.max(cv)\n",
        "print('cv：{}'.format(cv_max),\n",
        "      '{}'.format(cv.index(cv_max)+1))\n",
        "oob_max = np.max(oob)\n",
        "print('oob：{}'.format(oob_max),\n",
        "      '{}'.format(oob.index(oob_max)+1))\n",
        "\n",
        "\n",
        "x = np.arange(2,28)\n",
        "# plt.subplot(111)\n",
        "plt.figure(figsize=(14, 5))\n",
        "plt.xticks(x)\n",
        "\n",
        "plt.plot(x, cv, label='cv')\n",
        "plt.plot(x, oob,label='oob' )\n",
        "\n",
        "\n",
        "plt.legend(prop={'family' : 'Times New Roman', 'size': 12})\n",
        "\n",
        "plt.show()"
      ],
      "outputs": [],
      "execution_count": null,
      "metadata": {}
    },
    {
      "cell_type": "code",
      "source": [
        "rfc_b = RandomForestRegressor(n_estimators=371, max_features=7,\n",
        "                            max_depth=21,bootstrap=True,oob_score=True,\n",
        "                            n_jobs=-1,random_state=0)"
      ],
      "outputs": [],
      "execution_count": 23,
      "metadata": {}
    },
    {
      "cell_type": "code",
      "source": [
        "artificial_cv(rfc_b,3,X_b,Y_b)"
      ],
      "outputs": [
        {
          "output_type": "execute_result",
          "execution_count": 24,
          "data": {
            "text/plain": "0.6047872093379661"
          },
          "metadata": {}
        }
      ],
      "execution_count": 24,
      "metadata": {}
    },
    {
      "cell_type": "code",
      "source": [
        "rfc_b.fit(X_b,Y_b.values.ravel())"
      ],
      "outputs": [
        {
          "output_type": "execute_result",
          "execution_count": 26,
          "data": {
            "text/plain": "RandomForestRegressor(bootstrap=True, ccp_alpha=0.0, criterion='mse',\n                      max_depth=21, max_features=7, max_leaf_nodes=None,\n                      max_samples=None, min_impurity_decrease=0.0,\n                      min_impurity_split=None, min_samples_leaf=1,\n                      min_samples_split=2, min_weight_fraction_leaf=0.0,\n                      n_estimators=371, n_jobs=-1, oob_score=True,\n                      random_state=0, verbose=0, warm_start=False)"
          },
          "metadata": {}
        }
      ],
      "execution_count": 26,
      "metadata": {}
    },
    {
      "cell_type": "code",
      "source": [
        "print('特征排序')\n",
        "\n",
        "feature_names = list(X_b.columns)\n",
        "\n",
        "feature_importances = rfc.feature_importances_\n",
        "indics = np.argsort(feature_importances)[::-1]\n",
        "\n",
        "for index in indics:\n",
        "    print(' %s (%f)' %(feature_names[index], feature_importances[index]))"
      ],
      "outputs": [],
      "execution_count": null,
      "metadata": {}
    },
    {
      "cell_type": "code",
      "source": [
        "y_B = upscale(a,rfc)"
      ],
      "outputs": [],
      "execution_count": 66,
      "metadata": {}
    },
    {
      "cell_type": "code",
      "source": [
        "array = y_B\n",
        "newRasterfn = \"D:/site_biomass/upscale/dif_b.tif\"\n",
        "array2raster(newRasterfn,rasterOrigin,pixelWidth,pixelHeight,array)"
      ],
      "outputs": [],
      "execution_count": 67,
      "metadata": {}
    },
    {
      "cell_type": "markdown",
      "source": [
        "# mixed"
      ],
      "metadata": {}
    },
    {
      "cell_type": "code",
      "source": [
        "mixed=dataset_age40.query('`N_B` == 3')"
      ],
      "outputs": [],
      "execution_count": 27,
      "metadata": {}
    },
    {
      "cell_type": "code",
      "source": [
        "X_m = mixed[var]\n",
        "Y_m = mixed[result]"
      ],
      "outputs": [],
      "execution_count": 28,
      "metadata": {}
    },
    {
      "cell_type": "code",
      "source": [
        "cv = []\n",
        "oob = []\n",
        "from sklearn import metrics\n",
        "for i in range(100,400,20):\n",
        "    rfc = RandomForestRegressor(\n",
        "                                n_estimators=i+1,\n",
        "                                bootstrap=True,\n",
        "                                oob_score=True,\n",
        "                                n_jobs=-1,\n",
        "\n",
        "    )\n",
        "    score_cv = artificial_cv(3,X_m,Y_m)\n",
        "    cv.append(score_cv)\n",
        "#     cv.append(-score_cv)\n",
        "    rfc.fit(X_m, Y_m.values.ravel())\n",
        "    oob.append(rfc.oob_score_)"
      ],
      "outputs": [],
      "execution_count": 44,
      "metadata": {}
    },
    {
      "cell_type": "code",
      "source": [
        "cv_max = np.max(cv)\n",
        "print('cv：{}'.format(cv_max),\n",
        "      '{}'.format(cv.index(cv_max)*20+101))\n",
        "oob_max = np.max(oob)\n",
        "print('oob：{}'.format(oob_max),\n",
        "      '{}'.format(oob.index(oob_max)*20+101))\n",
        "\n",
        "x = np.arange(101,401,20)\n",
        "# plt.subplot(111)\n",
        "plt.figure(figsize=(14, 5))\n",
        "plt.xticks(x)\n",
        "\n",
        "plt.plot(x, cv, label='cv')\n",
        "plt.plot(x, oob,label='oob' )\n",
        "\n",
        "plt.legend(prop={'family' : 'Times New Roman', 'size': 12})\n",
        "\n",
        "plt.show()"
      ],
      "outputs": [],
      "execution_count": null,
      "metadata": {}
    },
    {
      "cell_type": "code",
      "source": [
        "cv = []\n",
        "oob = []\n",
        "\n",
        "from sklearn import metrics\n",
        "for i in range(0,25,1):\n",
        "    rfc = RandomForestRegressor(\n",
        "                                n_estimators=120,\n",
        "                                max_depth = i+1,\n",
        "                                bootstrap=True,\n",
        "                                oob_score=True,\n",
        "                                n_jobs=-1\n",
        "    )\n",
        "    score_cv = artificial_cv(3,X_m,Y_m)\n",
        "    cv.append(score_cv)\n",
        "#     cv.append(-score_cv)\n",
        "    rfc.fit(X_m,Y_m.values.ravel())\n",
        "    oob.append(rfc.oob_score_)"
      ],
      "outputs": [],
      "execution_count": 48,
      "metadata": {}
    },
    {
      "cell_type": "code",
      "source": [
        "cv_max = max(cv)\n",
        "print('cv：{}'.format(cv_max),\n",
        "      '{}'.format(cv.index(cv_max)*1+1))\n",
        "oob_max = max(oob)\n",
        "print('oob：{}'.format(oob_max),\n",
        "      '{}'.format(oob.index(oob_max)*1+1))\n",
        "\n",
        "x = np.arange(1,26,1)\n",
        "# plt.subplot(111)\n",
        "plt.figure(figsize=(14, 5))\n",
        "plt.xticks(x)\n",
        "plt.plot(x, cv, label='cv')\n",
        "plt.plot(x, oob,label='oob' )\n",
        "\n",
        "plt.legend(prop={'family' : 'Times New Roman', 'size': 12})\n",
        "\n",
        "plt.show()"
      ],
      "outputs": [],
      "execution_count": null,
      "metadata": {}
    },
    {
      "cell_type": "code",
      "source": [
        "cv = []\n",
        "oob = []\n",
        "from sklearn import metrics\n",
        "for i in range(2,28):\n",
        "    rfc = RandomForestRegressor(\n",
        "                                n_estimators=120,\n",
        "                                max_features=i,\n",
        "                                max_depth=3,\n",
        "                                bootstrap=True,\n",
        "                                oob_score=True,\n",
        "                                n_jobs=-1,\n",
        "                                random_state = 0\n",
        "    )\n",
        "    score_cv = artificial_cv(3,X_m,Y_m)\n",
        "    cv.append(score_cv)\n",
        "#     cv.append(-score_cv)\n",
        "    rfc.fit(X_m, Y_m.values.ravel())\n",
        "    oob.append(rfc.oob_score_)"
      ],
      "outputs": [],
      "execution_count": 50,
      "metadata": {}
    },
    {
      "cell_type": "code",
      "source": [
        "cv_max = np.max(cv)\n",
        "print('cv：{}'.format(cv_max),\n",
        "      '{}'.format(cv.index(cv_max)+1))\n",
        "oob_max = np.max(oob)\n",
        "print('oob：{}'.format(oob_max),\n",
        "      '{}'.format(oob.index(oob_max)+1))\n",
        "\n",
        "\n",
        "x = np.arange(2,28)\n",
        "# plt.subplot(111)\n",
        "plt.figure(figsize=(14, 5))\n",
        "plt.xticks(x)\n",
        "\n",
        "plt.plot(x, cv, label='cv')\n",
        "plt.plot(x, oob,label='oob' )\n",
        "\n",
        "\n",
        "plt.legend(prop={'family' : 'Times New Roman', 'size': 12})\n",
        "\n",
        "plt.show()"
      ],
      "outputs": [],
      "execution_count": null,
      "metadata": {}
    },
    {
      "cell_type": "code",
      "source": [
        "rfc_m = RandomForestRegressor(n_estimators=120, max_features=7,\n",
        "                            max_depth=6,bootstrap=True,oob_score=True,\n",
        "                            n_jobs=-1,random_state=0)"
      ],
      "outputs": [],
      "execution_count": 30,
      "metadata": {}
    },
    {
      "cell_type": "code",
      "source": [
        "artificial_cv(rfc_m,3,X_m,Y_m)"
      ],
      "outputs": [],
      "execution_count": null,
      "metadata": {}
    },
    {
      "cell_type": "code",
      "source": [
        "rfc_m.fit(X_m,Y_m.values.ravel())"
      ],
      "outputs": [
        {
          "output_type": "execute_result",
          "execution_count": 32,
          "data": {
            "text/plain": "RandomForestRegressor(bootstrap=True, ccp_alpha=0.0, criterion='mse',\n                      max_depth=6, max_features=7, max_leaf_nodes=None,\n                      max_samples=None, min_impurity_decrease=0.0,\n                      min_impurity_split=None, min_samples_leaf=1,\n                      min_samples_split=2, min_weight_fraction_leaf=0.0,\n                      n_estimators=120, n_jobs=-1, oob_score=True,\n                      random_state=0, verbose=0, warm_start=False)"
          },
          "metadata": {}
        }
      ],
      "execution_count": 32,
      "metadata": {}
    },
    {
      "cell_type": "code",
      "source": [
        "y_M = upscale(a,rfc)"
      ],
      "outputs": [],
      "execution_count": 83,
      "metadata": {}
    },
    {
      "cell_type": "code",
      "source": [
        "array = y_M\n",
        "newRasterfn = \"D:/site_biomass/upscale/dif_m.tif\"\n",
        "array2raster(newRasterfn,rasterOrigin,pixelWidth,pixelHeight,array)"
      ],
      "outputs": [],
      "execution_count": 84,
      "metadata": {}
    },
    {
      "cell_type": "code",
      "source": [
        "fig, (ax1, ax2) = plt.subplots(1, 2, figsize=(10, 6))\n",
        "tree_disp.plot(ax=[ax1, ax2], line_kw={\"label\": \"Decision Tree\"})\n",
        "mlp_disp.plot(ax=[ax1, ax2], line_kw={\"label\": \"Multi-layer Perceptron\",\n",
        "                                      \"c\": \"red\"})\n",
        "ax1.legend()\n",
        "ax2.legend()"
      ],
      "outputs": [],
      "execution_count": null,
      "metadata": {}
    }
  ],
  "metadata": {
    "kernelspec": {
      "display_name": "Python 3",
      "language": "python",
      "name": "python3"
    },
    "language_info": {
      "codemirror_mode": {
        "name": "ipython",
        "version": 3
      },
      "file_extension": ".py",
      "mimetype": "text/x-python",
      "name": "python",
      "nbconvert_exporter": "python",
      "pygments_lexer": "ipython3",
      "version": "3.7.6"
    },
    "nteract": {
      "version": "0.28.0"
    }
  },
  "nbformat": 4,
  "nbformat_minor": 4
}